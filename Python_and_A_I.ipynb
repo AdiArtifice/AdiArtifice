{
  "nbformat": 4,
  "nbformat_minor": 0,
  "metadata": {
    "colab": {
      "provenance": [],
      "authorship_tag": "ABX9TyMmn1Ynxk3N1Tq0wXHdXZE1",
      "include_colab_link": true
    },
    "kernelspec": {
      "name": "python3",
      "display_name": "Python 3"
    },
    "language_info": {
      "name": "python"
    }
  },
  "cells": [
    {
      "cell_type": "markdown",
      "metadata": {
        "id": "view-in-github",
        "colab_type": "text"
      },
      "source": [
        "<a href=\"https://colab.research.google.com/github/AdiArtifice/AdiArtifice/blob/main/Python_and_A_I.ipynb\" target=\"_parent\"><img src=\"https://colab.research.google.com/assets/colab-badge.svg\" alt=\"Open In Colab\"/></a>"
      ]
    },
    {
      "cell_type": "code",
      "source": [
        "def Consboard(board):\n",
        "  print(\"Current state of a board: \\n\\n\")\n",
        "  for i in range(9):\n",
        "    if((i>0) and (i%3)==0):\n",
        "      print(\"\\n\")\n",
        "    if(board[i]==0):\n",
        "      print(\"_ \",end =\" \")\n",
        "    if(board[i]==-1):\n",
        "      print(\"X \",end =\" \")\n",
        "    if(board[i]==1):\n",
        "      print(\"O \",end =\" \")\n",
        "\n",
        "def User1_turn(board):\n",
        "  pos = int(input(\"Enter X's position (1-9): \"))\n",
        "  if (board[pos-1] != 0):\n",
        "    print(\"Wrong Move!\")\n",
        "    User1_turn(board)\n",
        "  board[pos-1] = -1\n",
        "\n",
        "def User2_turn(board):\n",
        "  pos = int(input(\"Enter O's position (1-9): \"))\n",
        "  if (board[pos-1] != 0):\n",
        "    print(\"Wrong Move!\")\n",
        "    User2_turn(board)\n",
        "  board[pos-1] = 1\n",
        "\n",
        "def minmax(board, player):\n",
        "  x = analyseboard(board)\n",
        "  if (x != 0):\n",
        "    return (x*player)\n",
        "  pos = -1\n",
        "  value = -2\n",
        "  for i in range(9):\n",
        "    if (board[i] == 0):\n",
        "      board[i] = player\n",
        "      score = -minmax(board, player*-1)\n",
        "      board[i] = 0\n",
        "      if (score > value):\n",
        "        value = score\n",
        "        pos = i\n",
        "  if (pos == -1):\n",
        "    return 0\n",
        "  return value\n",
        "\n",
        "def CompTurn(board):\n",
        "  pos = -1\n",
        "  value = -2\n",
        "  for i in range(9):\n",
        "    if (board[i] == 0):\n",
        "      board[i] = 1\n",
        "      score = -minmax(board, -1)\n",
        "      board[i] = 0\n",
        "      if (score > value):\n",
        "        value = score\n",
        "        pos = i\n",
        "  board[pos] = 1\n",
        "\n",
        "def analyseboard(board):\n",
        "  cb = [[0,1,2],[3,4,5],[6,7,8],[0,3,6],[1,4,7],[2,5,8],[0,4,8],[2,4,6]]\n",
        "\n",
        "  for i in range(8):\n",
        "    if(board[cb[i][0]] != 0  and board[cb[i][0]] == board[cb[i][1]] == board[cb[i][2]]):\n",
        "      return board[cb[i][0]]\n",
        "\n",
        "  return 0\n",
        "\n"
      ],
      "metadata": {
        "id": "xdxv9y4nY2sD"
      },
      "execution_count": null,
      "outputs": []
    },
    {
      "cell_type": "code",
      "execution_count": null,
      "metadata": {
        "id": "Q6DrKQ-mlb9b"
      },
      "outputs": [],
      "source": [
        "def main():\n",
        "  choice = int(input(\"\\n\\nEnter a 1 for single-player or 2 for multi-player game \"))\n",
        "  board = [0]*9\n",
        "  if(choice==1):\n",
        "    print(\"\\n\\nComp vs AI\")\n",
        "    player = int(input(\"\\n\\nEnter to play 1st or 2nd: \"))\n",
        "    for i in range(9):\n",
        "      if(analyseboard(board)!=0):\n",
        "        break\n",
        "      if((player+i)%2==0):\n",
        "        CompTurn(board)\n",
        "      else:\n",
        "        Consboard(board)\n",
        "        User1_turn(board)\n",
        "  else:\n",
        "    for i in range(9):\n",
        "      if(analyseboard(board)!=0):\n",
        "        break\n",
        "      if(i%2==0):\n",
        "        Consboard(board)\n",
        "        User1_turn(board)\n",
        "      else:\n",
        "        Consboard(board)\n",
        "        User2_turn(board)\n",
        "\n",
        "  Consboard(board)\n",
        "  if analyseboard(board) == 0:\n",
        "    print(\"\\n\\n Draw! \")\n",
        "  elif analyseboard(board) == -1:\n",
        "    print(\"\\n\\n Player 1 wins! \")\n",
        "  else:\n",
        "    print(\"\\n\\n Player 2 wins! \")\n"
      ]
    },
    {
      "cell_type": "code",
      "source": [
        "main()"
      ],
      "metadata": {
        "colab": {
          "base_uri": "https://localhost:8080/"
        },
        "id": "hgn4MLtSceUL",
        "outputId": "5618df5f-2df0-43d6-d0d8-d837434fa13e"
      },
      "execution_count": null,
      "outputs": [
        {
          "output_type": "stream",
          "name": "stdout",
          "text": [
            "\n",
            "\n",
            "Enter a 1 for single-player or 2 for multi-player game 1\n",
            "\n",
            "\n",
            "Comp vs AI\n",
            "\n",
            "\n",
            "Enter to play 1st or 2nd: 1\n",
            "Current state of a board: \n",
            "\n",
            "\n",
            "_  _  _  \n",
            "\n",
            "_  _  _  \n",
            "\n",
            "_  _  _  Enter X's position (1-9): 1\n",
            "Current state of a board: \n",
            "\n",
            "\n",
            "X  _  _  \n",
            "\n",
            "_  O  _  \n",
            "\n",
            "_  _  _  Enter X's position (1-9): 4\n",
            "Current state of a board: \n",
            "\n",
            "\n",
            "X  _  _  \n",
            "\n",
            "X  O  _  \n",
            "\n",
            "O  _  _  Enter X's position (1-9): 3\n",
            "Current state of a board: \n",
            "\n",
            "\n",
            "X  O  X  \n",
            "\n",
            "X  O  _  \n",
            "\n",
            "O  _  _  Enter X's position (1-9): 8\n",
            "Current state of a board: \n",
            "\n",
            "\n",
            "X  O  X  \n",
            "\n",
            "X  O  O  \n",
            "\n",
            "O  X  _  Enter X's position (1-9): 9\n",
            "Current state of a board: \n",
            "\n",
            "\n",
            "X  O  X  \n",
            "\n",
            "X  O  O  \n",
            "\n",
            "O  X  X  \n",
            "\n",
            " Draw! \n"
          ]
        }
      ]
    }
  ]
}