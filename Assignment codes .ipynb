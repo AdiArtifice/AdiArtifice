{
 "cells": [
  {
   "cell_type": "markdown",
   "id": "64128702",
   "metadata": {},
   "source": [
    "# 1. Longest Increasing Subsequence"
   ]
  },
  {
   "cell_type": "code",
   "execution_count": 1,
   "id": "771127fa",
   "metadata": {},
   "outputs": [],
   "source": [
    "def lis(a):\n",
    "    dp = [1]*len(a)\n",
    "    for i in range(len(a)):\n",
    "        for j in range(i):\n",
    "            if a[i] > a[j]:\n",
    "                dp[i] = max(dp[i],dp[j]+1)\n",
    "    \n",
    "    return max(dp)"
   ]
  },
  {
   "cell_type": "code",
   "execution_count": 2,
   "id": "9e9d8158",
   "metadata": {},
   "outputs": [
    {
     "data": {
      "text/plain": [
       "4"
      ]
     },
     "execution_count": 2,
     "metadata": {},
     "output_type": "execute_result"
    }
   ],
   "source": [
    "a = [10, 9, 2, 5, 3, 7, 101, 18]\n",
    "\n",
    "lis(a)"
   ]
  },
  {
   "cell_type": "markdown",
   "id": "ad653ee6",
   "metadata": {},
   "source": [
    "# 2. 0/1 Knapsack"
   ]
  },
  {
   "cell_type": "code",
   "execution_count": 26,
   "id": "971cce77",
   "metadata": {},
   "outputs": [
    {
     "name": "stdout",
     "output_type": "stream",
     "text": [
      "Max Profit: 54,\n",
      " [1, 1, 1, 0, 1, 1, 0]\n"
     ]
    }
   ],
   "source": [
    "def knapsack(wt, val, W):\n",
    "    n = len(wt)\n",
    "    dp = [[0]*(W+1) for _ in range(n+1)]\n",
    "    for i in range(n):\n",
    "        for j in range(W+1):\n",
    "            if wt[i] <= j:\n",
    "                dp[i+1][j] = max(dp[i][j], val[i] + dp[i][j-wt[i]])\n",
    "            else:\n",
    "                dp[i+1][j] = dp[i][j]\n",
    "                \n",
    "    res = dp[n][W]\n",
    "    S = [0]*n\n",
    "    j = W\n",
    "    for i in range(n,0,-1):\n",
    "        if dp[i][j] != dp[i-1][j]:\n",
    "            S[i-1] = 1\n",
    "            j -= wt[i-1]\n",
    "    \n",
    "    return (f\"Max Profit: {res},\\n {S}\")\n",
    "\n",
    "\n",
    "items = [[10, 2], [5, 3], [15, 5], [7, 7], [6, 1], [18, 4], [3, 1]]\n",
    "profit = [item[0] for item in items]\n",
    "weight = [item[1] for item in items]\n",
    "capacity = 15\n",
    "\n",
    "print(knapsack(weight, profit, capacity))    "
   ]
  },
  {
   "cell_type": "markdown",
   "id": "37261c67",
   "metadata": {},
   "source": [
    "# 3. Min and Max Heap"
   ]
  },
  {
   "cell_type": "code",
   "execution_count": 27,
   "id": "419f9fed",
   "metadata": {},
   "outputs": [
    {
     "name": "stdout",
     "output_type": "stream",
     "text": [
      "Min Heap Top: 1\n",
      "Max Heap Top: 10\n"
     ]
    }
   ],
   "source": [
    "import heapq\n",
    "\n",
    "def min_heap(a): heapq.heapify(a); return heapq.heappop(a)\n",
    "\n",
    "def max_heap(a): a = [-x for x in a]; heapq.heapify(a); return -heapq.heappop(a)\n",
    "\n",
    "\n",
    "arr = [10, 3, 5, 1, 7, 8]\n",
    "\n",
    "print(\"Min Heap Top:\", min_heap(arr.copy()))  # Output: 1 (smallest element)\n",
    "print(\"Max Heap Top:\", max_heap(arr.copy()))  # Output: 10 (largest element)\n"
   ]
  },
  {
   "cell_type": "markdown",
   "id": "8126a06a",
   "metadata": {},
   "source": [
    "# Prefix Sum for Range query"
   ]
  },
  {
   "cell_type": "code",
   "execution_count": 28,
   "id": "085fcb80",
   "metadata": {},
   "outputs": [
    {
     "name": "stdout",
     "output_type": "stream",
     "text": [
      "Prefix sum array:  [1, 3, 6, 10, 15]\n",
      "Range sum from 1 to 3:  9\n"
     ]
    }
   ],
   "source": [
    "def prefix(arr):\n",
    "    for i in range(1,len(arr)):\n",
    "        arr[i] += arr[i-1]\n",
    "    \n",
    "    return arr\n",
    "\n",
    "def range_sum(p,l,r):\n",
    "    return p[r] - (p[l-1] if 1 else 0)\n",
    "\n",
    "\n",
    "arr = [1, 2, 3, 4, 5]\n",
    "\n",
    "prefix_sum = prefix(arr.copy())\n",
    "\n",
    "result = range_sum(prefix_sum,1,3)\n",
    "\n",
    "print(\"Prefix sum array: \", prefix_sum)\n",
    "print(\"Range sum from 1 to 3: \", result)"
   ]
  },
  {
   "cell_type": "markdown",
   "id": "a483a47a",
   "metadata": {},
   "source": [
    "# Check Prime"
   ]
  },
  {
   "cell_type": "code",
   "execution_count": 33,
   "id": "95e574fb",
   "metadata": {},
   "outputs": [
    {
     "name": "stdout",
     "output_type": "stream",
     "text": [
      "True\n",
      "False\n"
     ]
    }
   ],
   "source": [
    "def isprime(n):\n",
    "    \n",
    "    if n == 2:\n",
    "        return True\n",
    "    \n",
    "    if n < 2 or n % 2 == 0:\n",
    "        return False\n",
    "    \n",
    "    for i in range(3, int(n**0.5),2):\n",
    "        if n % i == 0:\n",
    "            return False\n",
    "    \n",
    "    return True\n",
    "\n",
    "print(isprime(17))\n",
    "print(isprime(20))"
   ]
  },
  {
   "cell_type": "markdown",
   "id": "8d22ce9c",
   "metadata": {},
   "source": [
    "# Merge Sort"
   ]
  },
  {
   "cell_type": "code",
   "execution_count": 35,
   "id": "dfe4945f",
   "metadata": {},
   "outputs": [
    {
     "name": "stdout",
     "output_type": "stream",
     "text": [
      "[1, 2, 3, 4, 5, 7, 8]\n"
     ]
    }
   ],
   "source": [
    "def merge_sort(a):\n",
    "    \n",
    "    if len(a) < 2:\n",
    "        return a\n",
    "    \n",
    "    m = len(a) // 2\n",
    "    \n",
    "    left = merge_sort(a[:m])\n",
    "    right = merge_sort(a[m:])\n",
    "    \n",
    "    res = []\n",
    "    \n",
    "    while left and right:\n",
    "        if left[0] < right[0]:\n",
    "            res.append(left.pop(0))\n",
    "        else:\n",
    "            res.append(right.pop(0))\n",
    "            \n",
    "    return res + left + right\n",
    "\n",
    "\n",
    "print(merge_sort([3,5,1,7,2,8,4]))"
   ]
  },
  {
   "cell_type": "markdown",
   "id": "250205f9",
   "metadata": {},
   "source": [
    "# Quick Sort"
   ]
  },
  {
   "cell_type": "code",
   "execution_count": 37,
   "id": "f7d67b89",
   "metadata": {},
   "outputs": [
    {
     "name": "stdout",
     "output_type": "stream",
     "text": [
      "[1, 2, 3, 4, 5, 7, 8]\n"
     ]
    }
   ],
   "source": [
    "def quick_sort(a):\n",
    "    \n",
    "    if len(a) < 2:\n",
    "        return a\n",
    "    \n",
    "    pivot = a[0]\n",
    "    \n",
    "    left = [x for x in a[1:] if x <= pivot]\n",
    "    right = [x for x in a[1:] if x > pivot]\n",
    "    \n",
    "    return quick_sort(left) + [pivot] + quick_sort(right)\n",
    "\n",
    "print(quick_sort([3,5,1,7,2,8,4]))"
   ]
  },
  {
   "cell_type": "markdown",
   "id": "857636f1",
   "metadata": {},
   "source": [
    "# BST Inorder"
   ]
  },
  {
   "cell_type": "code",
   "execution_count": 49,
   "id": "33b78aa7",
   "metadata": {},
   "outputs": [
    {
     "name": "stdout",
     "output_type": "stream",
     "text": [
      "20 \n",
      "30 \n",
      "40 \n",
      "50 \n",
      "60 \n",
      "70 \n",
      "80 \n"
     ]
    }
   ],
   "source": [
    "class Node:\n",
    "    def __init__(s,v):\n",
    "        s.v = v\n",
    "        s.r = s.l = None\n",
    "    \n",
    "def insert(r,k):\n",
    "    if not r:\n",
    "        return Node(k)\n",
    "    \n",
    "    if k < r.v:\n",
    "        r.l = insert(r.l,k)\n",
    "    else:\n",
    "        r.r = insert(r.r,k)\n",
    "    \n",
    "    return r\n",
    "\n",
    "def inorder(r):\n",
    "    \n",
    "    if r:\n",
    "        inorder(r.l);\n",
    "        print(r.v,'');\n",
    "        inorder(r.r);\n",
    "        \n",
    "        \n",
    "root = None\n",
    "\n",
    "values = [50, 30, 70, 20, 40, 60, 80]\n",
    "\n",
    "for val in values: \n",
    "    root = insert(root,val)\n",
    "    \n",
    "\n",
    "inorder(root)"
   ]
  },
  {
   "cell_type": "markdown",
   "id": "591181d1",
   "metadata": {},
   "source": [
    "# Search in Rotated Sorted Array (Binary Search Variant)"
   ]
  },
  {
   "cell_type": "code",
   "execution_count": 51,
   "id": "f47ba63c",
   "metadata": {},
   "outputs": [],
   "source": [
    "def search(arr, target):\n",
    "    \n",
    "    low, high = 0, len(arr)-1\n",
    "    \n",
    "    while low <= high:\n",
    "        mid = (low + high) // 2\n",
    "        \n",
    "    if arr[mid] == target:\n",
    "        return mid\n",
    "    \n",
    "    if arr[low] <= arr[mid]:\n",
    "        if arr[low] <= target < arr[mid]:\n",
    "            high = mid -1\n",
    "        else:\n",
    "            low = mid + 1\n",
    "    else:\n",
    "        if arr[mid] < target <= arr[high]:\n",
    "            low = mid + 1\n",
    "        else:\n",
    "            high = mid - 1\n",
    "            \n",
    "    return -1\n",
    "\n"
   ]
  },
  {
   "cell_type": "markdown",
   "id": "eaa14024",
   "metadata": {},
   "source": [
    "# First and Last Occurrence (Binary Search)"
   ]
  },
  {
   "cell_type": "code",
   "execution_count": 53,
   "id": "89ccc2e4",
   "metadata": {},
   "outputs": [],
   "source": [
    "def first_and_last(arr, target):\n",
    "    def binary_search_left():\n",
    "        \n",
    "        low, high = 0, len(arr) -1\n",
    "        res = -1\n",
    "        \n",
    "        while low <= high:\n",
    "            mid = (low+high) // 2\n",
    "        \n",
    "        if arr[mid] < target:\n",
    "            left = mid + 1\n",
    "        else:\n",
    "            if arr[mid] == target:\n",
    "                res = mid\n",
    "            right = mid -1\n",
    "        return res\n",
    "    \n",
    "    def binary_search_right():\n",
    "        \n",
    "        low, high = 0, len(arr) -1\n",
    "        res = -1 \n",
    "        \n",
    "        while low <= high:\n",
    "            mid = (low+high) // 2\n",
    "        \n",
    "        if arr[mid] > target:\n",
    "            right = mid -1\n",
    "        else:\n",
    "            if arr[mid] == target:\n",
    "                res = mid\n",
    "            low = mid + 1\n",
    "        return res\n",
    "    \n",
    "    return [binary_search_left(), binary_search_right()]"
   ]
  },
  {
   "cell_type": "markdown",
   "id": "1d098bb4",
   "metadata": {},
   "source": [
    "# Longest Sub aray with given sum"
   ]
  },
  {
   "cell_type": "code",
   "execution_count": 2,
   "id": "6ee40cc2",
   "metadata": {},
   "outputs": [
    {
     "name": "stdout",
     "output_type": "stream",
     "text": [
      "(3, [2, 3, 7])\n"
     ]
    }
   ],
   "source": [
    "def lss(arr,k):\n",
    "    left = 0\n",
    "    max_len = 0\n",
    "    curr_sum = 0\n",
    "    sub_arr = []\n",
    "    \n",
    "    for right in range(len(arr)):\n",
    "        curr_sum += arr[right]\n",
    "        \n",
    "        while curr_sum > k:\n",
    "            curr_sum -= arr[left]\n",
    "            left += 1\n",
    "        \n",
    "        if curr_sum == k and (right-left + 1)>max_len:\n",
    "            max_len = right - left + 1\n",
    "            sub_arr = arr[left:right+1]\n",
    "            \n",
    "    return max_len, sub_arr\n",
    "\n",
    "arr = [1, 2, 3, 7, 5]\n",
    "k = 12\n",
    "print(lss(arr, k))"
   ]
  },
  {
   "cell_type": "code",
   "execution_count": null,
   "id": "c1207da5",
   "metadata": {},
   "outputs": [],
   "source": []
  }
 ],
 "metadata": {
  "kernelspec": {
   "display_name": "Python 3 (ipykernel)",
   "language": "python",
   "name": "python3"
  },
  "language_info": {
   "codemirror_mode": {
    "name": "ipython",
    "version": 3
   },
   "file_extension": ".py",
   "mimetype": "text/x-python",
   "name": "python",
   "nbconvert_exporter": "python",
   "pygments_lexer": "ipython3",
   "version": "3.10.9"
  }
 },
 "nbformat": 4,
 "nbformat_minor": 5
}
